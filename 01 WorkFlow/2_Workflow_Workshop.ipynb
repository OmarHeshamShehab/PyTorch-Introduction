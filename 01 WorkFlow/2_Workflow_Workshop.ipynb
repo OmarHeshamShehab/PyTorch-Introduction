{
 "cells": [
  {
   "cell_type": "markdown",
   "id": "bef6c7a7",
   "metadata": {},
   "source": [
    "# Importing Libraries"
   ]
  },
  {
   "cell_type": "code",
   "execution_count": 1,
   "id": "6dbb7a4b",
   "metadata": {},
   "outputs": [],
   "source": [
    "import torch\n",
    "from torch import nn\n",
    "import matplotlib.pyplot as plt\n",
    "import numpy as np\n",
    "from pathlib import Path"
   ]
  },
  {
   "cell_type": "code",
   "execution_count": 2,
   "id": "84615654",
   "metadata": {},
   "outputs": [
    {
     "name": "stdout",
     "output_type": "stream",
     "text": [
      "tensor([[0.0000],\n",
      "        [0.0100],\n",
      "        [0.0200],\n",
      "        [0.0300],\n",
      "        [0.0400],\n",
      "        [0.0500],\n",
      "        [0.0600],\n",
      "        [0.0700],\n",
      "        [0.0800],\n",
      "        [0.0900]]), \n",
      " tensor([[0.3000],\n",
      "        [0.3070],\n",
      "        [0.3140],\n",
      "        [0.3210],\n",
      "        [0.3280],\n",
      "        [0.3350],\n",
      "        [0.3420],\n",
      "        [0.3490],\n",
      "        [0.3560],\n",
      "        [0.3630]])\n"
     ]
    }
   ],
   "source": [
    "# Create Known Parameters\n",
    "weight = 0.7\n",
    "bias = 0.3\n",
    "\n",
    "# Create\n",
    "start = 0\n",
    "end = 1\n",
    "step = 0.01\n",
    "X = torch.arange(start, end, step).unsqueeze(dim=1)\n",
    "y = weight * X + bias\n",
    "print(f\"{X[:10]}, \\n {y[:10]}\")"
   ]
  },
  {
   "cell_type": "code",
   "execution_count": 3,
   "id": "2a7e6490",
   "metadata": {},
   "outputs": [
    {
     "name": "stdout",
     "output_type": "stream",
     "text": [
      "length of X: 100 \n",
      "length of y: 100\n"
     ]
    }
   ],
   "source": [
    "print(f\"length of X: {len(X)} \\nlength of y: {len(y)}\")"
   ]
  },
  {
   "cell_type": "markdown",
   "id": "d7bcec6d",
   "metadata": {},
   "source": [
    "# Splitting Data into Train & Test Set"
   ]
  },
  {
   "cell_type": "code",
   "execution_count": 4,
   "id": "a51dc547",
   "metadata": {},
   "outputs": [
    {
     "data": {
      "text/plain": [
       "(80, 80, 20, 20)"
      ]
     },
     "execution_count": 4,
     "metadata": {},
     "output_type": "execute_result"
    }
   ],
   "source": [
    "train_split = int(0.8 * len(X))\n",
    "X_train, y_train = X[:train_split], y[:train_split]\n",
    "X_test, y_test = X[train_split:], y[train_split:]\n",
    "len(X_train), len(y_train), len(X_test), len(y_test)"
   ]
  },
  {
   "cell_type": "markdown",
   "id": "2238c59a",
   "metadata": {},
   "source": [
    "# Function to Plot Data"
   ]
  },
  {
   "cell_type": "code",
   "execution_count": 5,
   "id": "697e668b",
   "metadata": {},
   "outputs": [],
   "source": [
    "def plot_predictions(\n",
    "    train_data=X_train,\n",
    "    train_labels=y_train,\n",
    "    test_data=X_test,\n",
    "    test_labels=y_test,\n",
    "    predictions=None,\n",
    "):\n",
    "    \"\"\"\n",
    "    plot training data , test data & compares to prediction\n",
    "    \"\"\"\n",
    "    plt.figure(figsize=(10, 5))\n",
    "\n",
    "    # Plot Training data Color = Blue\n",
    "    plt.scatter(train_data, train_labels, c=\"b\", s=4, label=\"Training Data\")\n",
    "\n",
    "    # Plot Test data Color = Green\n",
    "    plt.scatter(test_data, test_labels, c=\"g\", s=4, label=\"Test Data\")\n",
    "\n",
    "    # Plot Prediction data if exists Color = Red\n",
    "    if predictions is not None:\n",
    "        plt.scatter(test_data, predictions, c=\"r\", s=4, label=\"Predictions\")\n",
    "\n",
    "    plt.legend(prop={\"size\": 14})"
   ]
  },
  {
   "cell_type": "code",
   "execution_count": 6,
   "id": "7ef5c3c4",
   "metadata": {},
   "outputs": [
    {
     "data": {
      "image/png": "[encoded data removed]",
      "text/plain": [
       "<Figure size 1000x500 with 1 Axes>"
      ]
     },
     "metadata": {},
     "output_type": "display_data"
    }
   ],
   "source": [
    "plot_predictions()"
   ]
  },
  {
   "cell_type": "markdown",
   "id": "5ff4e942",
   "metadata": {},
   "source": [
    "# Create Linear Regression Model Class"
   ]
  },
  {
   "cell_type": "code",
   "execution_count": 7,
   "id": "858bfb25",
   "metadata": {},
   "outputs": [],
   "source": [
    "class LinearRegressionModel(nn.Module):\n",
    "    def __init__(self):\n",
    "        super().__init__()\n",
    "        self.weights = nn.Parameter(\n",
    "            torch.randn(1, requires_grad=True, dtype=torch.float)\n",
    "        )\n",
    "        self.bias = nn.Parameter(torch.randn(1, requires_grad=True, dtype=torch.float))\n",
    "\n",
    "    def forward(\n",
    "        self, x: torch.tensor\n",
    "    ) -> (\n",
    "        torch.tensor\n",
    "    ):  # It just tells humans and tools what the function should return.Removing it does not break anything\n",
    "        return self.weights * x + self.bias"
   ]
  },
  {
   "cell_type": "markdown",
   "id": "3f6af9db",
   "metadata": {},
   "source": [
    "# Checking Content of our Pytorch Model"
   ]
  },
  {
   "cell_type": "code",
   "execution_count": 8,
   "id": "2a2e03f6",
   "metadata": {},
   "outputs": [
    {
     "data": {
      "text/plain": [
       "[Parameter containing:\n",
       " tensor([0.3367], requires_grad=True),\n",
       " Parameter containing:\n",
       " tensor([0.1288], requires_grad=True)]"
      ]
     },
     "execution_count": 8,
     "metadata": {},
     "output_type": "execute_result"
    }
   ],
   "source": [
    "torch.manual_seed(42)\n",
    "model_0 = LinearRegressionModel()\n",
    "# Checkout parameters\n",
    "list(model_0.parameters())"
   ]
  },
  {
   "cell_type": "code",
   "execution_count": 9,
   "id": "06b3b537",
   "metadata": {},
   "outputs": [
    {
     "data": {
      "text/plain": [
       "OrderedDict([('weights', tensor([0.3367])), ('bias', tensor([0.1288]))])"
      ]
     },
     "execution_count": 9,
     "metadata": {},
     "output_type": "execute_result"
    }
   ],
   "source": [
    "# List of named parameters\n",
    "model_0.state_dict()"
   ]
  },
  {
   "cell_type": "markdown",
   "id": "e45007f4",
   "metadata": {},
   "source": [
    "# Making Predictions"
   ]
  },
  {
   "cell_type": "code",
   "execution_count": 10,
   "id": "9c245421",
   "metadata": {},
   "outputs": [
    {
     "data": {
      "text/plain": [
       "tensor([[0.3982],\n",
       "        [0.4015],\n",
       "        [0.4049],\n",
       "        [0.4083],\n",
       "        [0.4116],\n",
       "        [0.4150],\n",
       "        [0.4184],\n",
       "        [0.4217],\n",
       "        [0.4251],\n",
       "        [0.4285],\n",
       "        [0.4318],\n",
       "        [0.4352],\n",
       "        [0.4386],\n",
       "        [0.4419],\n",
       "        [0.4453],\n",
       "        [0.4487],\n",
       "        [0.4520],\n",
       "        [0.4554],\n",
       "        [0.4588],\n",
       "        [0.4621]])"
      ]
     },
     "execution_count": 10,
     "metadata": {},
     "output_type": "execute_result"
    }
   ],
   "source": [
    "with torch.inference_mode():  # Maks prediction faster as it doesn't keep track of data such as gradient\n",
    "    y_pred = model_0(X_test)\n",
    "y_pred"
   ]
  },
  {
   "cell_type": "code",
   "execution_count": 11,
   "id": "0d507f7f",
   "metadata": {},
   "outputs": [
    {
     "data": {
      "image/png": "[encoded data removed]",
      "text/plain": [
       "<Figure size 1000x500 with 1 Axes>"
      ]
     },
     "metadata": {},
     "output_type": "display_data"
    }
   ],
   "source": [
    "plot_predictions(predictions=y_pred)"
   ]
  },
  {
   "cell_type": "markdown",
   "id": "ffad210d",
   "metadata": {},
   "source": [
    "# Setup Loss function & Optimizer"
   ]
  },
  {
   "cell_type": "code",
   "execution_count": 12,
   "id": "f739d9ac",
   "metadata": {},
   "outputs": [],
   "source": [
    "loss_fn = nn.L1Loss()\n",
    "optimizer = torch.optim.SGD(params=model_0.parameters(), lr=0.01)"
   ]
  },
  {
   "cell_type": "markdown",
   "id": "9d7ee5fb",
   "metadata": {},
   "source": [
    "### PyTorch training loop\n",
    "For the training loop, we'll build the following steps:\n",
    "\n",
    "| Number | Step name | What does it do? | Code example |\n",
    "| ----- | ----- | ----- | ----- |\n",
    "| 1 | Forward pass | The model goes through all of the training data once, performing its `forward()` function calculations. | `model(x_train)` |\n",
    "| 2 | Calculate the loss | The model's outputs (predictions) are compared to the ground truth and evaluated to see how wrong they are. | `loss = loss_fn(y_pred, y_train)` | \n",
    "| 3 | Zero gradients | The optimizers gradients are set to zero (they are accumulated by default) so they can be recalculated for the specific training step. | `optimizer.zero_grad()` |\n",
    "| 4 | Perform backpropagation on the loss | Computes the gradient of the loss with respect for every model parameter to be updated  (each parameter with `requires_grad=True`). This is known as **backpropagation**, hence \"backwards\".  | `loss.backward()` |\n",
    "| 5 | Update the optimizer (**gradient descent**) | Update the parameters with `requires_grad=True` with respect to the loss gradients in order to improve them. | `optimizer.step()` |\n"
   ]
  },
  {
   "cell_type": "code",
   "execution_count": 13,
   "id": "067a70dc",
   "metadata": {},
   "outputs": [
    {
     "name": "stdout",
     "output_type": "stream",
     "text": [
      "Epoch: 0 | Loss: 0.31469792127609253 | Test_loss: 0.48281747102737427\n",
      "OrderedDict([('weights', tensor([0.3406])), ('bias', tensor([0.1388]))])\n",
      "Epoch: 10 | Loss: 0.19909533858299255 | Test_loss: 0.3474648892879486\n",
      "OrderedDict([('weights', tensor([0.3801])), ('bias', tensor([0.2388]))])\n",
      "Epoch: 20 | Loss: 0.08958515524864197 | Test_loss: 0.21752354502677917\n",
      "OrderedDict([('weights', tensor([0.4195])), ('bias', tensor([0.3336]))])\n",
      "Epoch: 30 | Loss: 0.05288771912455559 | Test_loss: 0.1439102590084076\n",
      "OrderedDict([('weights', tensor([0.4525])), ('bias', tensor([0.3776]))])\n",
      "Epoch: 40 | Loss: 0.045192889869213104 | Test_loss: 0.11271438747644424\n",
      "OrderedDict([('weights', tensor([0.4762])), ('bias', tensor([0.3876]))])\n",
      "Epoch: 50 | Loss: 0.04140976816415787 | Test_loss: 0.09821617603302002\n",
      "OrderedDict([('weights', tensor([0.4952])), ('bias', tensor([0.3851]))])\n",
      "Epoch: 60 | Loss: 0.03795855492353439 | Test_loss: 0.0888485461473465\n",
      "OrderedDict([('weights', tensor([0.5127])), ('bias', tensor([0.3788]))])\n",
      "Epoch: 70 | Loss: 0.034532517194747925 | Test_loss: 0.08085694909095764\n",
      "OrderedDict([('weights', tensor([0.5297])), ('bias', tensor([0.3716]))])\n",
      "Epoch: 80 | Loss: 0.03110707364976406 | Test_loss: 0.07252134382724762\n",
      "OrderedDict([('weights', tensor([0.5468])), ('bias', tensor([0.3646]))])\n",
      "Epoch: 90 | Loss: 0.027681414037942886 | Test_loss: 0.06452975422143936\n",
      "OrderedDict([('weights', tensor([0.5639])), ('bias', tensor([0.3573]))])\n",
      "Epoch: 100 | Loss: 0.02425537072122097 | Test_loss: 0.05653815343976021\n",
      "OrderedDict([('weights', tensor([0.5809])), ('bias', tensor([0.3501]))])\n",
      "Epoch: 110 | Loss: 0.02082989364862442 | Test_loss: 0.048202548176050186\n",
      "OrderedDict([('weights', tensor([0.5980])), ('bias', tensor([0.3431]))])\n",
      "Epoch: 120 | Loss: 0.01740426756441593 | Test_loss: 0.04021095111966133\n",
      "OrderedDict([('weights', tensor([0.6151])), ('bias', tensor([0.3358]))])\n",
      "Epoch: 130 | Loss: 0.013978230766952038 | Test_loss: 0.032219357788562775\n",
      "OrderedDict([('weights', tensor([0.6321])), ('bias', tensor([0.3286]))])\n",
      "Epoch: 140 | Loss: 0.01055271364748478 | Test_loss: 0.023883748799562454\n",
      "OrderedDict([('weights', tensor([0.6492])), ('bias', tensor([0.3216]))])\n",
      "Epoch: 150 | Loss: 0.007127122487872839 | Test_loss: 0.01589217223227024\n",
      "OrderedDict([('weights', tensor([0.6663])), ('bias', tensor([0.3143]))])\n",
      "Epoch: 160 | Loss: 0.0037010847590863705 | Test_loss: 0.007900560274720192\n",
      "OrderedDict([('weights', tensor([0.6833])), ('bias', tensor([0.3071]))])\n",
      "Epoch: 170 | Loss: 0.005421516485512257 | Test_loss: 0.0052901627495884895\n",
      "OrderedDict([('weights', tensor([0.6983])), ('bias', tensor([0.3068]))])\n",
      "Epoch: 180 | Loss: 0.005421516485512257 | Test_loss: 0.0052901627495884895\n",
      "OrderedDict([('weights', tensor([0.6983])), ('bias', tensor([0.3068]))])\n",
      "Epoch: 190 | Loss: 0.005421516485512257 | Test_loss: 0.0052901627495884895\n",
      "OrderedDict([('weights', tensor([0.6983])), ('bias', tensor([0.3068]))])\n"
     ]
    }
   ],
   "source": [
    "# Set a manual seed to ensure reproducibility of results (weights, randomness, etc.)\n",
    "torch.manual_seed(42)\n",
    "\n",
    "# Set the number of epochs (iterations over the entire training dataset)\n",
    "epochs = 200\n",
    "\n",
    "# Lists to keep track of metrics during training\n",
    "epoch_count = []  # Stores epoch numbers for which we log progress\n",
    "loss_values = []  # Stores training loss values\n",
    "test_loss_values = []  # Stores test (validation) loss values\n",
    "\n",
    "# Start the training loop\n",
    "for epoch in range(epochs):\n",
    "\n",
    "    # Set the model to training mode (enables dropout, batchnorm, etc. if present)\n",
    "    model_0.train()\n",
    "\n",
    "    # Perform a forward pass on the training data\n",
    "    y_pred = model_0(X_train)\n",
    "\n",
    "    # Calculate the loss between predictions and actual training labels\n",
    "    loss = loss_fn(y_pred, y_train)\n",
    "\n",
    "    # Reset gradients to zero before backpropagation to prevent accumulation\n",
    "    optimizer.zero_grad()\n",
    "\n",
    "    # Backward pass - compute gradients of the loss w.r.t model parameters\n",
    "    loss.backward()\n",
    "\n",
    "    # Perform a single optimization step (update model parameters)\n",
    "    optimizer.step()\n",
    "\n",
    "    # Set the model to evaluation mode (disables dropout, batchnorm, etc.)\n",
    "    model_0.eval()\n",
    "    with torch.inference_mode():  # Context manager to turn off gradient calculation for inference\n",
    "        # Perform a forward pass on the test data\n",
    "        test_pred = model_0(X_test)\n",
    "\n",
    "        # Calculate the loss on the test data\n",
    "        test_loss = loss_fn(test_pred, y_test)\n",
    "\n",
    "    # Every 10 epochs, record and print the metrics for analysis\n",
    "    if epoch % 10 == 0:\n",
    "        epoch_count.append(epoch)  # Record current epoch\n",
    "        loss_values.append(loss)  # Record training loss\n",
    "        test_loss_values.append(test_loss)  # Record test loss\n",
    "\n",
    "        # Print training and test loss to monitor progress\n",
    "        print(f\"Epoch: {epoch} | Loss: {loss} | Test_loss: {test_loss}\")\n",
    "\n",
    "        # Print current model parameters (weights and biases)\n",
    "        print(model_0.state_dict())\n",
    "\n",
    "    # Debug print for weights and biases (optional, commented out)\n",
    "    # print(f\"Weight: {weight} \\nBias: {bias}\")"
   ]
  },
  {
   "cell_type": "code",
   "execution_count": 14,
   "id": "146943ce",
   "metadata": {},
   "outputs": [],
   "source": [
    "with torch.inference_mode():\n",
    "    y_preds_new = model_0(X_test)"
   ]
  },
  {
   "cell_type": "code",
   "execution_count": 15,
   "id": "b2a6df55",
   "metadata": {},
   "outputs": [
    {
     "data": {
      "text/plain": [
       "OrderedDict([('weights', tensor([0.6944])), ('bias', tensor([0.2968]))])"
      ]
     },
     "execution_count": 15,
     "metadata": {},
     "output_type": "execute_result"
    }
   ],
   "source": [
    "model_0.state_dict()"
   ]
  },
  {
   "cell_type": "code",
   "execution_count": 16,
   "id": "c476cd2b",
   "metadata": {},
   "outputs": [
    {
     "data": {
      "text/plain": [
       "(0.7, 0.3)"
      ]
     },
     "execution_count": 16,
     "metadata": {},
     "output_type": "execute_result"
    }
   ],
   "source": [
    "weight, bias"
   ]
  },
  {
   "cell_type": "code",
   "execution_count": 17,
   "id": "3419baf6",
   "metadata": {},
   "outputs": [
    {
     "data": {
      "image/png": "[encoded data removed]",
      "text/plain": [
       "<Figure size 1000x500 with 1 Axes>"
      ]
     },
     "metadata": {},
     "output_type": "display_data"
    }
   ],
   "source": [
    "plot_predictions(predictions=y_preds_new)"
   ]
  },
  {
   "cell_type": "markdown",
   "id": "57412fd9",
   "metadata": {},
   "source": [
    "# Plotting"
   ]
  },
  {
   "cell_type": "code",
   "execution_count": 18,
   "id": "c6836990",
   "metadata": {},
   "outputs": [
    {
     "data": {
      "text/plain": [
       "<matplotlib.legend.Legend at 0x7f9578f8d910>"
      ]
     },
     "execution_count": 18,
     "metadata": {},
     "output_type": "execute_result"
    },
    {
     "data": {
      "image/png": "[encoded data removed]",
      "text/plain": [
       "<Figure size 640x480 with 1 Axes>"
      ]
     },
     "metadata": {},
     "output_type": "display_data"
    }
   ],
   "source": [
    "plt.plot(epoch_count, np.array(torch.tensor(loss_values).numpy()), label=\"Train Loss\")\n",
    "plt.plot(epoch_count, test_loss_values, label=\"Test Loss\")\n",
    "plt.title(\"Training & Test Loss Curves \")\n",
    "plt.ylabel(\"Loss\")\n",
    "plt.xlabel(\"Epochs\")\n",
    "plt.legend()"
   ]
  },
  {
   "cell_type": "markdown",
   "id": "70ff8713",
   "metadata": {},
   "source": [
    "# Saving Model"
   ]
  },
  {
   "cell_type": "code",
   "execution_count": 19,
   "id": "8d6b6c01",
   "metadata": {},
   "outputs": [
    {
     "name": "stdout",
     "output_type": "stream",
     "text": [
      "Model is Saved to models/V1_workflow_workshop.pt\n"
     ]
    }
   ],
   "source": [
    "# Create Model Directory\n",
    "MODEL_PATH = Path(\"models\")\n",
    "MODEL_PATH.mkdir(parents=True, exist_ok=True)\n",
    "\n",
    "# Create Model save Path\n",
    "MODEL_NAME = \"V1_workflow_workshop.pt\"\n",
    "MODEL_SAVE_PATH = MODEL_PATH / MODEL_NAME\n",
    "\n",
    "# Save Model state dict\n",
    "torch.save(obj=model_0.state_dict(), f=MODEL_SAVE_PATH)\n",
    "print(f\"Model is Saved to {MODEL_SAVE_PATH}\")"
   ]
  },
  {
   "cell_type": "markdown",
   "id": "acf34a97",
   "metadata": {},
   "source": [
    "# Loading Model"
   ]
  },
  {
   "cell_type": "code",
   "execution_count": 20,
   "id": "1c03f78d",
   "metadata": {},
   "outputs": [
    {
     "data": {
      "text/plain": [
       "<All keys matched successfully>"
      ]
     },
     "execution_count": 20,
     "metadata": {},
     "output_type": "execute_result"
    }
   ],
   "source": [
    "# To load a saved model using its state_dict, we must first re-create the model architecture.\n",
    "# This creates a new instance of the same model class we originally trained and saved.\n",
    "loaded_model_0 = LinearRegressionModel()\n",
    "\n",
    "# Load the saved state_dict (i.e., the trained weights and biases) into the new model instance.\n",
    "# This updates the new model with the parameters learned during training, effectively restoring its state.\n",
    "\n",
    "loaded_model_0.load_state_dict(torch.load(f=MODEL_SAVE_PATH))"
   ]
  }
 ],
 "metadata": {
  "kernelspec": {
   "display_name": ".torch27",
   "language": "python",
   "name": "python3"
  },
  "language_info": {
   "codemirror_mode": {
    "name": "ipython",
    "version": 3
   },
   "file_extension": ".py",
   "mimetype": "text/x-python",
   "name": "python",
   "nbconvert_exporter": "python",
   "pygments_lexer": "ipython3",
   "version": "3.11.11"
  }
 },
 "nbformat": 4,
 "nbformat_minor": 5
}
