{
  "cells": [
    {
      "cell_type": "markdown",
      "metadata": {
        "colab_type": "text",
        "id": "view-in-github"
      },
      "source": [
        "<a href=\"https://colab.research.google.com/github/mrdbourke/pytorch-deep-learning/blob/main/extras/exercises/01_pytorch_workflow_exercises.ipynb\" target=\"_parent\"><img src=\"https://colab.research.google.com/assets/colab-badge.svg\" alt=\"Open In Colab\"/></a>"
      ]
    },
    {
      "cell_type": "markdown",
      "metadata": {
        "id": "N8LsPXZti9Sw"
      },
      "source": [
        "# 01. PyTorch Workflow Exercise Template"
      ]
    },
    {
      "cell_type": "code",
      "execution_count": 1,
      "metadata": {
        "id": "Glu2fM4dkNlx"
      },
      "outputs": [],
      "source": [
        "# Import necessary libraries\n",
        "\n",
        "import torch\n",
        "from torch import nn\n",
        "import matplotlib.pyplot as plt\n",
        "import numpy as np\n",
        "from pathlib import Path"
      ]
    },
    {
      "cell_type": "code",
      "execution_count": 2,
      "metadata": {
        "id": "LqKhXY26m31s"
      },
      "outputs": [
        {
          "name": "stdout",
          "output_type": "stream",
          "text": [
            "Using device: cuda\n"
          ]
        }
      ],
      "source": [
        "# Setup device-agnostic code\n",
        "\n",
        "device = \"cuda\" if torch.cuda.is_available() else \"cpu\"\n",
        "print(f\"Using device: {device}\")"
      ]
    },
    {
      "cell_type": "markdown",
      "metadata": {
        "id": "g7HUhxCxjeBx"
      },
      "source": [
        "## 1. Create a straight line dataset using the linear regression formula (`weight * X + bias`).\n",
        "  * Set `weight=0.3` and `bias=0.9` there should be at least 100 datapoints total. \n",
        "  * Split the data into 80% training, 20% testing.\n",
        "  * Plot the training and testing data so it becomes visual."
      ]
    },
    {
      "cell_type": "code",
      "execution_count": 3,
      "metadata": {
        "id": "KbDG5MV7jhvE"
      },
      "outputs": [
        {
          "name": "stdout",
          "output_type": "stream",
          "text": [
            "Number of X samples: 100\n",
            "Number of y samples: 100\n",
            "First 10 X & y samples:\n",
            "X: tensor([[0.0000],\n",
            "        [0.0100],\n",
            "        [0.0200],\n",
            "        [0.0300],\n",
            "        [0.0400],\n",
            "        [0.0500],\n",
            "        [0.0600],\n",
            "        [0.0700],\n",
            "        [0.0800],\n",
            "        [0.0900]])\n",
            "y: tensor([[0.9000],\n",
            "        [0.9030],\n",
            "        [0.9060],\n",
            "        [0.9090],\n",
            "        [0.9120],\n",
            "        [0.9150],\n",
            "        [0.9180],\n",
            "        [0.9210],\n",
            "        [0.9240],\n",
            "        [0.9270]])\n"
          ]
        }
      ],
      "source": [
        "# Create the data parameters\n",
        "weight, bias = 0.3, 0.9\n",
        "\n",
        "\n",
        "# Make X and y using linear regression feature\n",
        "X = torch.arange(0, 1, 0.01).unsqueeze(dim=1)\n",
        "y = weight * X + bias\n",
        "\n",
        "print(f\"Number of X samples: {len(X)}\")\n",
        "print(f\"Number of y samples: {len(y)}\")\n",
        "print(f\"First 10 X & y samples:\\nX: {X[:10]}\\ny: {y[:10]}\")"
      ]
    },
    {
      "cell_type": "code",
      "execution_count": 4,
      "metadata": {
        "id": "GlwtT1djkmLw"
      },
      "outputs": [],
      "source": [
        "# Split the data into training and testing\n",
        "\n",
        "train_split = int(0.8 * len(X))\n",
        "\n",
        "X_train = X[:train_split]\n",
        "y_train = y[:train_split]\n",
        "X_test = X[train_split:]\n",
        "y_test = y[train_split:]"
      ]
    },
    {
      "cell_type": "code",
      "execution_count": 5,
      "metadata": {
        "id": "29iQZFNhlYJ-"
      },
      "outputs": [
        {
          "data": {
            "image/png": "[encoded data removed]",
            "text/plain": [
              "<Figure size 1000x700 with 1 Axes>"
            ]
          },
          "metadata": {},
          "output_type": "display_data"
        }
      ],
      "source": [
        "# Plot the training and testing data\n",
        "\n",
        "\n",
        "def plot_predictions(\n",
        "    train_data=X_train,\n",
        "    train_labels=y_train,\n",
        "    test_data=X_test,\n",
        "    test_labels=y_test,\n",
        "    predictions=None,\n",
        "):\n",
        "    plt.figure(figsize=(10, 7))\n",
        "    plt.scatter(train_data, train_labels, c=\"b\", s=4, label=\"Training Data\")\n",
        "    plt.scatter(test_data, test_labels, c=\"g\", s=4, label=\"Test Data\")\n",
        "\n",
        "    if predictions is not None:\n",
        "        plt.scatter(test_data, predictions, c=\"r\", s=4, label=\"Predictions\")\n",
        "    plt.legend(prop={\"size\": 14})\n",
        "\n",
        "\n",
        "plot_predictions()"
      ]
    },
    {
      "cell_type": "markdown",
      "metadata": {
        "id": "ImZoe3v8jif8"
      },
      "source": [
        "## 2. Build a PyTorch model by subclassing `nn.Module`. \n",
        "  * Inside should be a randomly initialized `nn.Parameter()` with `requires_grad=True`, one for `weights` and one for `bias`. \n",
        "  * Implement the `forward()` method to compute the linear regression function you used to create the dataset in 1. \n",
        "  * Once you've constructed the model, make an instance of it and check its `state_dict()`.\n",
        "  * **Note:** If you'd like to use `nn.Linear()` instead of `nn.Parameter()` you can."
      ]
    },
    {
      "cell_type": "code",
      "execution_count": 6,
      "metadata": {
        "id": "qzd__Y5rjtB8"
      },
      "outputs": [
        {
          "data": {
            "text/plain": [
              "(LinearRegressionModel(\n",
              "   (linear_layer): Linear(in_features=1, out_features=1, bias=True)\n",
              " ),\n",
              " OrderedDict([('linear_layer.weight', tensor([[0.7645]])),\n",
              "              ('linear_layer.bias', tensor([0.8300]))]))"
            ]
          },
          "execution_count": 6,
          "metadata": {},
          "output_type": "execute_result"
        }
      ],
      "source": [
        "# Create PyTorch linear regression model by subclassing nn.Module\n",
        "\n",
        "\n",
        "from turtle import forward\n",
        "\n",
        "\n",
        "class LinearRegressionModel(nn.Module):\n",
        "    def __init__(self):\n",
        "        super().__init__()\n",
        "        self.linear_layer = nn.Linear(in_features=1, out_features=1)\n",
        "\n",
        "    def forward(self, x: torch.tensor) -> torch.tensor:\n",
        "        return self.linear_layer(x)\n",
        "\n",
        "\n",
        "torch.manual_seed(42)\n",
        "lrm = LinearRegressionModel()\n",
        "lrm, lrm.state_dict()"
      ]
    },
    {
      "cell_type": "code",
      "execution_count": 7,
      "metadata": {},
      "outputs": [],
      "source": [
        "lrm = lrm.to(device)"
      ]
    },
    {
      "cell_type": "code",
      "execution_count": 8,
      "metadata": {
        "id": "5LdcDnmOmyQ2"
      },
      "outputs": [
        {
          "data": {
            "text/plain": [
              "device(type='cuda', index=0)"
            ]
          },
          "execution_count": 8,
          "metadata": {},
          "output_type": "execute_result"
        }
      ],
      "source": [
        "# Instantiate the model and put it to the target device\n",
        "\n",
        "next(lrm.parameters()).device"
      ]
    },
    {
      "cell_type": "markdown",
      "metadata": {
        "id": "G6nYOrJhjtfu"
      },
      "source": [
        "## 3. Create a loss function and optimizer using `nn.L1Loss()` and `torch.optim.SGD(params, lr)` respectively. \n",
        "  * Set the learning rate of the optimizer to be 0.01 and the parameters to optimize should be the model parameters from the model you created in 2.\n",
        "  * Write a training loop to perform the appropriate training steps for 300 epochs.\n",
        "  * The training loop should test the model on the test dataset every 20 epochs."
      ]
    },
    {
      "cell_type": "code",
      "execution_count": 9,
      "metadata": {
        "id": "ltvoZ-FWjv1j"
      },
      "outputs": [],
      "source": [
        "# Create the loss function and optimizer\n",
        "\n",
        "loss_fun = nn.L1Loss()\n",
        "optimizer = torch.optim.SGD(params=lrm.parameters(), lr=0.01)"
      ]
    },
    {
      "cell_type": "code",
      "execution_count": 10,
      "metadata": {
        "id": "xpE83NvNnkdV"
      },
      "outputs": [
        {
          "name": "stdout",
          "output_type": "stream",
          "text": [
            "Epoch: 0 | Train loss: 0.128 | Test loss: 0.337\n",
            "Epoch: 20 | Train loss: 0.082 | Test loss: 0.218\n",
            "Epoch: 40 | Train loss: 0.072 | Test loss: 0.175\n",
            "Epoch: 60 | Train loss: 0.065 | Test loss: 0.153\n",
            "Epoch: 80 | Train loss: 0.058 | Test loss: 0.137\n",
            "Epoch: 100 | Train loss: 0.051 | Test loss: 0.121\n",
            "Epoch: 120 | Train loss: 0.045 | Test loss: 0.104\n",
            "Epoch: 140 | Train loss: 0.038 | Test loss: 0.088\n",
            "Epoch: 160 | Train loss: 0.031 | Test loss: 0.072\n",
            "Epoch: 180 | Train loss: 0.024 | Test loss: 0.056\n",
            "Epoch: 200 | Train loss: 0.017 | Test loss: 0.040\n",
            "Epoch: 220 | Train loss: 0.010 | Test loss: 0.024\n",
            "Epoch: 240 | Train loss: 0.003 | Test loss: 0.007\n",
            "Epoch: 260 | Train loss: 0.008 | Test loss: 0.007\n",
            "Epoch: 280 | Train loss: 0.008 | Test loss: 0.007\n"
          ]
        }
      ],
      "source": [
        "# Training loop\n",
        "# Train model for 300 epochs\n",
        "torch.manual_seed(42)\n",
        "\n",
        "epochs = 300\n",
        "\n",
        "# Send data to target device\n",
        "X_train = X_train.to(device)\n",
        "X_test = X_test.to(device)\n",
        "y_train = y_train.to(device)\n",
        "y_test = y_test.to(device)\n",
        "\n",
        "\n",
        "for epoch in range(epochs):\n",
        "    ### Training\n",
        "\n",
        "    # Put model in train mode\n",
        "    lrm.train()\n",
        "\n",
        "    # 1. Forward pass\n",
        "    y_pred = lrm(X_train)\n",
        "    # 2. Calculate loss\n",
        "    loss = loss_fun(y_pred, y_train)\n",
        "    # 3. Zero gradients\n",
        "    optimizer.zero_grad()\n",
        "    # 4. Backpropagation\n",
        "    loss.backward()\n",
        "    # 5. Step the optimizer\n",
        "    optimizer.step()\n",
        "    ### Perform testing every 20 epochs\n",
        "    if epoch % 20 == 0:\n",
        "\n",
        "        # Put model in evaluation mode and setup inference context\n",
        "        lrm.eval()\n",
        "        with torch.inference_mode():\n",
        "            # 1. Forward pass\n",
        "            test_pred = lrm(X_test)\n",
        "            # 2. Calculate test loss\n",
        "            test_loss = loss_fun(test_pred, y_test)\n",
        "\n",
        "        # Print out what's happening\n",
        "        print(f\"Epoch: {epoch} | Train loss: {loss:.3f} | Test loss: {test_loss:.3f}\")"
      ]
    },
    {
      "cell_type": "markdown",
      "metadata": {
        "id": "x4j4TM18jwa7"
      },
      "source": [
        "## 4. Make predictions with the trained model on the test data.\n",
        "  * Visualize these predictions against the original training and testing data (**note:** you may need to make sure the predictions are *not* on the GPU if you want to use non-CUDA-enabled libraries such as matplotlib to plot)."
      ]
    },
    {
      "cell_type": "code",
      "execution_count": 11,
      "metadata": {
        "id": "bbMPK5Qjjyx_"
      },
      "outputs": [
        {
          "data": {
            "text/plain": [
              "tensor([[1.1333],\n",
              "        [1.1363],\n",
              "        [1.1393],\n",
              "        [1.1423],\n",
              "        [1.1454],\n",
              "        [1.1484],\n",
              "        [1.1514],\n",
              "        [1.1545],\n",
              "        [1.1575],\n",
              "        [1.1605],\n",
              "        [1.1635],\n",
              "        [1.1666],\n",
              "        [1.1696],\n",
              "        [1.1726],\n",
              "        [1.1757],\n",
              "        [1.1787],\n",
              "        [1.1817],\n",
              "        [1.1847],\n",
              "        [1.1878],\n",
              "        [1.1908]], device='cuda:0')"
            ]
          },
          "execution_count": 11,
          "metadata": {},
          "output_type": "execute_result"
        }
      ],
      "source": [
        "# Make predictions with the model\n",
        "lrm.eval()\n",
        "\n",
        "with torch.inference_mode():\n",
        "    test_pred = lrm(X_test)\n",
        "test_pred"
      ]
    },
    {
      "cell_type": "code",
      "execution_count": 12,
      "metadata": {
        "id": "K3BdmQaDpFo8"
      },
      "outputs": [
        {
          "data": {
            "image/png": "[encoded data removed]",
            "text/plain": [
              "<Figure size 1000x700 with 1 Axes>"
            ]
          },
          "metadata": {},
          "output_type": "display_data"
        }
      ],
      "source": [
        "# Plot the predictions (these may need to be on a specific device)\n",
        "plot_predictions(predictions=test_pred.cpu())"
      ]
    },
    {
      "cell_type": "markdown",
      "metadata": {
        "id": "s2OnlMWKjzX8"
      },
      "source": [
        "## 5. Save your trained model's `state_dict()` to file.\n",
        "  * Create a new instance of your model class you made in 2. and load in the `state_dict()` you just saved to it.\n",
        "  * Perform predictions on your test data with the loaded model and confirm they match the original model predictions from 4."
      ]
    },
    {
      "cell_type": "code",
      "execution_count": 13,
      "metadata": {
        "id": "hgxhgD14qr-i"
      },
      "outputs": [
        {
          "name": "stdout",
          "output_type": "stream",
          "text": [
            "Model is Saved to models/V3_Workflow_exercises.pt\n"
          ]
        }
      ],
      "source": [
        "# Create Model Directory\n",
        "MODEL_PATH = Path(\"models\")\n",
        "MODEL_PATH.mkdir(parents=True, exist_ok=True)\n",
        "\n",
        "# Create Model save Path\n",
        "MODEL_NAME = \"V3_Workflow_exercises.pt\"\n",
        "MODEL_SAVE_PATH = MODEL_PATH / MODEL_NAME\n",
        "\n",
        "# Save Model state dict\n",
        "torch.save(obj=lrm.state_dict(), f=MODEL_SAVE_PATH)\n",
        "print(f\"Model is Saved to {MODEL_SAVE_PATH}\")"
      ]
    },
    {
      "cell_type": "code",
      "execution_count": 14,
      "metadata": {
        "id": "P9vTgiLRrJ7T"
      },
      "outputs": [
        {
          "data": {
            "text/plain": [
              "LinearRegressionModel(\n",
              "  (linear_layer): Linear(in_features=1, out_features=1, bias=True)\n",
              ")"
            ]
          },
          "execution_count": 14,
          "metadata": {},
          "output_type": "execute_result"
        }
      ],
      "source": [
        "# Create new instance of model and load saved state dict (make sure to put it on the target device)\n",
        "loaded_model = LinearRegressionModel()\n",
        "loaded_model.load_state_dict(torch.load(f=MODEL_SAVE_PATH))\n",
        "loaded_model.to(device)"
      ]
    },
    {
      "cell_type": "code",
      "execution_count": 15,
      "metadata": {
        "id": "8UGX3VebrVtI"
      },
      "outputs": [
        {
          "data": {
            "text/plain": [
              "tensor([[True],\n",
              "        [True],\n",
              "        [True],\n",
              "        [True],\n",
              "        [True],\n",
              "        [True],\n",
              "        [True],\n",
              "        [True],\n",
              "        [True],\n",
              "        [True],\n",
              "        [True],\n",
              "        [True],\n",
              "        [True],\n",
              "        [True],\n",
              "        [True],\n",
              "        [True],\n",
              "        [True],\n",
              "        [True],\n",
              "        [True],\n",
              "        [True]], device='cuda:0')"
            ]
          },
          "execution_count": 15,
          "metadata": {},
          "output_type": "execute_result"
        }
      ],
      "source": [
        "# Make predictions with loaded model and compare them to the previous\n",
        "test_pred_new = loaded_model(X_test)\n",
        "test_pred == test_pred_new"
      ]
    }
  ],
  "metadata": {
    "accelerator": "GPU",
    "colab": {
      "authorship_tag": "ABX9TyNYzatJtFkfUqqdiR6rYwVL",
      "collapsed_sections": [],
      "include_colab_link": true,
      "name": "01_pytorch_workflow_exercises.ipynb",
      "provenance": []
    },
    "kernelspec": {
      "display_name": ".torch27",
      "language": "python",
      "name": "python3"
    },
    "language_info": {
      "codemirror_mode": {
        "name": "ipython",
        "version": 3
      },
      "file_extension": ".py",
      "mimetype": "text/x-python",
      "name": "python",
      "nbconvert_exporter": "python",
      "pygments_lexer": "ipython3",
      "version": "3.11.11"
    }
  },
  "nbformat": 4,
  "nbformat_minor": 0
}
