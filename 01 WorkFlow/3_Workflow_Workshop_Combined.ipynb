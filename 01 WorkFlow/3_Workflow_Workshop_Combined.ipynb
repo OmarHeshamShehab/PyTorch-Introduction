{
  "cells": [
    {
      "cell_type": "markdown",
      "metadata": {},
      "source": [
        "# Import Libraries"
      ]
    },
    {
      "cell_type": "code",
      "execution_count": 1,
      "metadata": {},
      "outputs": [],
      "source": [
        "import torch\n",
        "from torch import nn\n",
        "import matplotlib.pyplot as plt\n",
        "import numpy as np\n",
        "from pathlib import Path"
      ]
    },
    {
      "cell_type": "markdown",
      "metadata": {},
      "source": [
        "# Check if CUDA is available"
      ]
    },
    {
      "cell_type": "code",
      "execution_count": 2,
      "metadata": {},
      "outputs": [
        {
          "name": "stdout",
          "output_type": "stream",
          "text": [
            "Using device: cuda\n"
          ]
        }
      ],
      "source": [
        "device = \"cuda\" if torch.cuda.is_available() else \"cpu\"\n",
        "print(f\"Using device: {device}\")"
      ]
    },
    {
      "cell_type": "markdown",
      "metadata": {},
      "source": [
        "# Data"
      ]
    },
    {
      "cell_type": "code",
      "execution_count": 3,
      "metadata": {},
      "outputs": [
        {
          "data": {
            "text/plain": [
              "(tensor([[0.0000],\n",
              "         [0.0200],\n",
              "         [0.0400],\n",
              "         [0.0600],\n",
              "         [0.0800],\n",
              "         [0.1000],\n",
              "         [0.1200],\n",
              "         [0.1400],\n",
              "         [0.1600],\n",
              "         [0.1800]]),\n",
              " tensor([[0.3000],\n",
              "         [0.3140],\n",
              "         [0.3280],\n",
              "         [0.3420],\n",
              "         [0.3560],\n",
              "         [0.3700],\n",
              "         [0.3840],\n",
              "         [0.3980],\n",
              "         [0.4120],\n",
              "         [0.4260]]))"
            ]
          },
          "execution_count": 3,
          "metadata": {},
          "output_type": "execute_result"
        }
      ],
      "source": [
        "weight = 0.7\n",
        "bias = 0.3\n",
        "\n",
        "start = 0\n",
        "end = 1\n",
        "step = 0.02\n",
        "\n",
        "X = torch.arange(start, end, step).unsqueeze(dim=1)\n",
        "y = weight * X + bias\n",
        "X[:10], y[:10]"
      ]
    },
    {
      "cell_type": "markdown",
      "metadata": {},
      "source": [
        "# Splitting Data"
      ]
    },
    {
      "cell_type": "code",
      "execution_count": 4,
      "metadata": {},
      "outputs": [],
      "source": [
        "train_split = int(0.8 * len(X))\n",
        "X_train, y_train = X[:train_split], y[:train_split]\n",
        "X_test, y_test = X[train_split:], y[train_split:]"
      ]
    },
    {
      "cell_type": "code",
      "execution_count": 5,
      "metadata": {},
      "outputs": [],
      "source": [
        "def plot_prediction(X_train, y_train, X_test, y_test, predictions=None):\n",
        "    plt.figure(figsize=(10, 6))\n",
        "\n",
        "    plt.scatter(X_train, y_train, color=\"blue\", label=\"Training Data\")\n",
        "    plt.scatter(X_test, y_test, color=\"green\", label=\"Test Data\")\n",
        "\n",
        "    if predictions is not None:\n",
        "        plt.scatter(X_test, predictions, color=\"red\", marker=\"x\", label=\"Predictions\")\n",
        "\n",
        "    plt.title(\"Model Predictions vs Ground Truth\")\n",
        "    plt.xlabel(\"X\")\n",
        "    plt.ylabel(\"y\")\n",
        "    plt.legend()\n",
        "    plt.grid(True)\n",
        "    plt.show()"
      ]
    },
    {
      "cell_type": "code",
      "execution_count": 6,
      "metadata": {},
      "outputs": [
        {
          "data": {
            "image/png": "[encoded data removed]",
            "text/plain": [
              "<Figure size 1000x600 with 1 Axes>"
            ]
          },
          "metadata": {},
          "output_type": "display_data"
        }
      ],
      "source": [
        "plot_prediction(X_train, y_train, X_test, y_test)"
      ]
    },
    {
      "cell_type": "markdown",
      "metadata": {},
      "source": [
        "# Building Model "
      ]
    },
    {
      "cell_type": "code",
      "execution_count": 7,
      "metadata": {},
      "outputs": [
        {
          "name": "stdout",
          "output_type": "stream",
          "text": [
            "LinearRegressionModelV2(\n",
            "  (linear_layer): Linear(in_features=1, out_features=1, bias=True)\n",
            ")\n",
            "OrderedDict([('linear_layer.weight', tensor([[0.7645]], device='cuda:0')), ('linear_layer.bias', tensor([0.8300], device='cuda:0'))])\n"
          ]
        }
      ],
      "source": [
        "class LinearRegressionModelV2(nn.Module):\n",
        "    def __init__(self):\n",
        "        super().__init__()\n",
        "        self.linear_layer = nn.Linear(in_features=1, out_features=1)\n",
        "\n",
        "    def forward(self, x: torch.tensor) -> torch.Tensor:\n",
        "        return self.linear_layer(x)\n",
        "\n",
        "\n",
        "# Set Manual Seed\n",
        "\n",
        "torch.manual_seed(42)\n",
        "model = LinearRegressionModelV2().to(device)\n",
        "print(model)\n",
        "print(model.state_dict())"
      ]
    },
    {
      "cell_type": "code",
      "execution_count": 8,
      "metadata": {},
      "outputs": [
        {
          "data": {
            "text/plain": [
              "device(type='cuda', index=0)"
            ]
          },
          "execution_count": 8,
          "metadata": {},
          "output_type": "execute_result"
        }
      ],
      "source": [
        "next(model.parameters()).device"
      ]
    },
    {
      "cell_type": "markdown",
      "metadata": {},
      "source": [
        "# Setup Loss Function"
      ]
    },
    {
      "cell_type": "code",
      "execution_count": 9,
      "metadata": {},
      "outputs": [],
      "source": [
        "loss_fn = nn.L1Loss()"
      ]
    },
    {
      "cell_type": "markdown",
      "metadata": {},
      "source": [
        "# Setup an Optimizer"
      ]
    },
    {
      "cell_type": "code",
      "execution_count": 10,
      "metadata": {},
      "outputs": [],
      "source": [
        "optimizer = torch.optim.SGD(params=model.parameters(), lr=0.01)"
      ]
    },
    {
      "cell_type": "markdown",
      "metadata": {},
      "source": [
        "# Putting test data to gpu"
      ]
    },
    {
      "cell_type": "code",
      "execution_count": 11,
      "metadata": {},
      "outputs": [],
      "source": [
        "X_train = X_train.to(device)\n",
        "y_train = y_train.to(device)\n",
        "X_test = X_test.to(device)\n",
        "y_test = y_test.to(device)"
      ]
    },
    {
      "cell_type": "markdown",
      "metadata": {},
      "source": [
        "# Training Loop"
      ]
    },
    {
      "cell_type": "code",
      "execution_count": 12,
      "metadata": {},
      "outputs": [
        {
          "name": "stdout",
          "output_type": "stream",
          "text": [
            "Epoch: 0 | loss: 0.5551779866218567 | test_loss: 0.5739762187004089\n",
            "Epoch: 10 | loss: 0.439968079328537 | test_loss: 0.4392664134502411\n",
            "Epoch: 20 | loss: 0.3247582018375397 | test_loss: 0.30455657839775085\n",
            "Epoch: 30 | loss: 0.20954833924770355 | test_loss: 0.16984669864177704\n",
            "Epoch: 40 | loss: 0.09433845430612564 | test_loss: 0.03513690456748009\n",
            "Epoch: 50 | loss: 0.023886388167738914 | test_loss: 0.04784907028079033\n",
            "Epoch: 60 | loss: 0.019956795498728752 | test_loss: 0.045803118497133255\n",
            "Epoch: 70 | loss: 0.016517987474799156 | test_loss: 0.037530567497015\n",
            "Epoch: 80 | loss: 0.013089174404740334 | test_loss: 0.02994490973651409\n",
            "Epoch: 90 | loss: 0.009653178043663502 | test_loss: 0.02167237363755703\n",
            "Epoch: 100 | loss: 0.006215683650225401 | test_loss: 0.014086711220443249\n",
            "Epoch: 110 | loss: 0.00278724217787385 | test_loss: 0.005814164876937866\n",
            "Epoch: 120 | loss: 0.0012645035749301314 | test_loss: 0.013801801018416882\n",
            "Epoch: 130 | loss: 0.0012645035749301314 | test_loss: 0.013801801018416882\n",
            "Epoch: 140 | loss: 0.0012645035749301314 | test_loss: 0.013801801018416882\n",
            "Epoch: 150 | loss: 0.0012645035749301314 | test_loss: 0.013801801018416882\n",
            "Epoch: 160 | loss: 0.0012645035749301314 | test_loss: 0.013801801018416882\n",
            "Epoch: 170 | loss: 0.0012645035749301314 | test_loss: 0.013801801018416882\n",
            "Epoch: 180 | loss: 0.0012645035749301314 | test_loss: 0.013801801018416882\n",
            "Epoch: 190 | loss: 0.0012645035749301314 | test_loss: 0.013801801018416882\n"
          ]
        }
      ],
      "source": [
        "torch.manual_seed(42)\n",
        "epochs = 200\n",
        "\n",
        "for epoch in range(epochs):\n",
        "    model.train()\n",
        "\n",
        "    # 1. Forward Pass\n",
        "    y_pred = model(X_train)\n",
        "\n",
        "    # 2. Calculate the loss\n",
        "    loss = loss_fn(y_pred, y_train)\n",
        "\n",
        "    # 3. Optimizer Zero Grad\n",
        "    optimizer.zero_grad()\n",
        "\n",
        "    # 4. Perform BackPropagation\n",
        "    loss.backward()\n",
        "\n",
        "    # 5. Optimizer Step\n",
        "    optimizer.step()\n",
        "\n",
        "    # Testing\n",
        "    model.eval()\n",
        "    with torch.inference_mode():\n",
        "        test_pred = model(X_test)\n",
        "        test_loss = loss_fn(test_pred, y_test)\n",
        "\n",
        "    # Printting\n",
        "    if epoch % 10 == 0:\n",
        "        print(f\"Epoch: {epoch} | loss: {loss} | test_loss: {test_loss}\")"
      ]
    },
    {
      "cell_type": "code",
      "execution_count": 13,
      "metadata": {},
      "outputs": [
        {
          "data": {
            "text/plain": [
              "OrderedDict([('linear_layer.weight', tensor([[0.6968]], device='cuda:0')),\n",
              "             ('linear_layer.bias', tensor([0.3025], device='cuda:0'))])"
            ]
          },
          "execution_count": 13,
          "metadata": {},
          "output_type": "execute_result"
        }
      ],
      "source": [
        "model.state_dict()"
      ]
    },
    {
      "cell_type": "markdown",
      "metadata": {},
      "source": [
        "# Plot Predictions"
      ]
    },
    {
      "cell_type": "code",
      "execution_count": 14,
      "metadata": {},
      "outputs": [
        {
          "data": {
            "image/png": "[encoded data removed]",
            "text/plain": [
              "<Figure size 1000x600 with 1 Axes>"
            ]
          },
          "metadata": {},
          "output_type": "display_data"
        }
      ],
      "source": [
        "plot_prediction(\n",
        "    X_train.cpu().numpy(),\n",
        "    y_train.cpu().numpy(),\n",
        "    X_test.cpu().numpy(),\n",
        "    y_test.cpu().numpy(),\n",
        "    predictions=test_pred.cpu().numpy(),\n",
        ")"
      ]
    },
    {
      "cell_type": "markdown",
      "metadata": {},
      "source": [
        "# Saving Model"
      ]
    },
    {
      "cell_type": "code",
      "execution_count": 15,
      "metadata": {},
      "outputs": [
        {
          "name": "stdout",
          "output_type": "stream",
          "text": [
            "Model is Saved to models/V2_workflow_workshop.pt\n"
          ]
        }
      ],
      "source": [
        "# Create Model Directory\n",
        "MODEL_PATH = Path(\"models\")\n",
        "MODEL_PATH.mkdir(parents=True, exist_ok=True)\n",
        "\n",
        "# Create Model save Path\n",
        "MODEL_NAME = \"V2_workflow_workshop.pt\"\n",
        "MODEL_SAVE_PATH = MODEL_PATH / MODEL_NAME\n",
        "\n",
        "# Save Model state dict\n",
        "torch.save(obj=model.state_dict(), f=MODEL_SAVE_PATH)\n",
        "print(f\"Model is Saved to {MODEL_SAVE_PATH}\")"
      ]
    },
    {
      "cell_type": "markdown",
      "metadata": {},
      "source": [
        "# Loading Model"
      ]
    },
    {
      "cell_type": "code",
      "execution_count": 16,
      "metadata": {},
      "outputs": [
        {
          "data": {
            "text/plain": [
              "LinearRegressionModelV2(\n",
              "  (linear_layer): Linear(in_features=1, out_features=1, bias=True)\n",
              ")"
            ]
          },
          "execution_count": 16,
          "metadata": {},
          "output_type": "execute_result"
        }
      ],
      "source": [
        "# To load a saved model using its state_dict, we must first re-create the model architecture.\n",
        "# This creates a new instance of the same model class we originally trained and saved.\n",
        "loaded_model = LinearRegressionModelV2()\n",
        "\n",
        "# Load the saved state_dict (i.e., the trained weights and biases) into the new model instance.\n",
        "# This updates the new model with the parameters learned during training, effectively restoring its state.\n",
        "\n",
        "loaded_model.load_state_dict(torch.load(f=MODEL_SAVE_PATH))\n",
        "\n",
        "loaded_model.to(device)"
      ]
    }
  ],
  "metadata": {
    "accelerator": "GPU",
    "colab": {
      "authorship_tag": "ABX9TyNYzatJtFkfUqqdiR6rYwVL",
      "collapsed_sections": [],
      "include_colab_link": true,
      "name": "01_pytorch_workflow_exercises.ipynb",
      "provenance": []
    },
    "kernelspec": {
      "display_name": ".torch27",
      "language": "python",
      "name": "python3"
    },
    "language_info": {
      "codemirror_mode": {
        "name": "ipython",
        "version": 3
      },
      "file_extension": ".py",
      "mimetype": "text/x-python",
      "name": "python",
      "nbconvert_exporter": "python",
      "pygments_lexer": "ipython3",
      "version": "3.11.11"
    }
  },
  "nbformat": 4,
  "nbformat_minor": 0
}
