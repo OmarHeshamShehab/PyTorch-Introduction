{
 "cells": [
  {
   "cell_type": "markdown",
   "id": "bef6c7a7",
   "metadata": {},
   "source": [
    "# Importing Libraries"
   ]
  },
  {
   "cell_type": "code",
   "execution_count": 1,
   "id": "6dbb7a4b",
   "metadata": {},
   "outputs": [],
   "source": [
    "import torch\n",
    "from torch import nn\n",
    "import matplotlib.pyplot as plt\n",
    "import numpy as np"
   ]
  },
  {
   "cell_type": "code",
   "execution_count": 2,
   "id": "84615654",
   "metadata": {},
   "outputs": [
    {
     "name": "stdout",
     "output_type": "stream",
     "text": [
      "tensor([[0.0000],\n",
      "        [0.0100],\n",
      "        [0.0200],\n",
      "        [0.0300],\n",
      "        [0.0400],\n",
      "        [0.0500],\n",
      "        [0.0600],\n",
      "        [0.0700],\n",
      "        [0.0800],\n",
      "        [0.0900]]), \n",
      " tensor([[0.3000],\n",
      "        [0.3070],\n",
      "        [0.3140],\n",
      "        [0.3210],\n",
      "        [0.3280],\n",
      "        [0.3350],\n",
      "        [0.3420],\n",
      "        [0.3490],\n",
      "        [0.3560],\n",
      "        [0.3630]])\n"
     ]
    }
   ],
   "source": [
    "# Create Known Parameters\n",
    "weight = 0.7\n",
    "bias = 0.3\n",
    "\n",
    "# Create\n",
    "start = 0\n",
    "end = 1\n",
    "step = 0.01\n",
    "X = torch.arange(start, end, step).unsqueeze(dim=1)\n",
    "y = weight * X + bias\n",
    "print(f\"{X[:10]}, \\n {y[:10]}\")"
   ]
  },
  {
   "cell_type": "code",
   "execution_count": 3,
   "id": "2a7e6490",
   "metadata": {},
   "outputs": [
    {
     "name": "stdout",
     "output_type": "stream",
     "text": [
      "length of X: 100 \n",
      "length of y: 100\n"
     ]
    }
   ],
   "source": [
    "print(f\"length of X: {len(X)} \\nlength of y: {len(y)}\")"
   ]
  },
  {
   "cell_type": "markdown",
   "id": "d7bcec6d",
   "metadata": {},
   "source": [
    "# Splitting Data into Train & Test Set"
   ]
  },
  {
   "cell_type": "code",
   "execution_count": 4,
   "id": "a51dc547",
   "metadata": {},
   "outputs": [
    {
     "data": {
      "text/plain": [
       "(80, 80, 20, 20)"
      ]
     },
     "execution_count": 4,
     "metadata": {},
     "output_type": "execute_result"
    }
   ],
   "source": [
    "train_split = int(0.8 * len(X))\n",
    "X_train, y_train = X[:train_split], y[:train_split]\n",
    "X_test, y_test = X[train_split:], y[train_split:]\n",
    "len(X_train), len(y_train), len(X_test), len(y_test)"
   ]
  },
  {
   "cell_type": "markdown",
   "id": "2238c59a",
   "metadata": {},
   "source": [
    "# Function to Plot Data"
   ]
  },
  {
   "cell_type": "code",
   "execution_count": 5,
   "id": "697e668b",
   "metadata": {},
   "outputs": [],
   "source": [
    "def plot_predictions(\n",
    "    train_data=X_train,\n",
    "    train_labels=y_train,\n",
    "    test_data=X_test,\n",
    "    test_labels=y_test,\n",
    "    predictions=None,\n",
    "):\n",
    "    \"\"\"\n",
    "    plot training data , test data & compares to prediction\n",
    "    \"\"\"\n",
    "    plt.figure(figsize=(10, 5))\n",
    "\n",
    "    # Plot Training data Color = Blue\n",
    "    plt.scatter(train_data, train_labels, c=\"b\", s=4, label=\"Training Data\")\n",
    "\n",
    "    # Plot Test data Color = Green\n",
    "    plt.scatter(test_data, test_labels, c=\"g\", s=4, label=\"Test Data\")\n",
    "\n",
    "    # Plot Prediction data if exists Color = Red\n",
    "    if predictions is not None:\n",
    "        plt.scatter(test_data, predictions, c=\"r\", s=4, label=\"Predictions\")\n",
    "\n",
    "    plt.legend(prop={\"size\": 14})"
   ]
  },
  {
   "cell_type": "code",
   "execution_count": 6,
   "id": "7ef5c3c4",
   "metadata": {},
   "outputs": [
    {
     "data": {
      "image/png": "[encoded data removed]",
      "text/plain": [
       "<Figure size 1000x500 with 1 Axes>"
      ]
     },
     "metadata": {},
     "output_type": "display_data"
    }
   ],
   "source": [
    "plot_predictions()"
   ]
  },
  {
   "cell_type": "markdown",
   "id": "5ff4e942",
   "metadata": {},
   "source": [
    "# Create Linear Regression Model Class"
   ]
  },
  {
   "cell_type": "code",
   "execution_count": 7,
   "id": "858bfb25",
   "metadata": {},
   "outputs": [],
   "source": [
    "class LinearRegressionModel(nn.Module):\n",
    "    def __init__(self):\n",
    "        super().__init__()\n",
    "        self.weights = nn.Parameter(\n",
    "            torch.randn(1, requires_grad=True, dtype=torch.float)\n",
    "        )\n",
    "        self.bias = nn.Parameter(torch.randn(1, requires_grad=True, dtype=torch.float))\n",
    "\n",
    "    def forward(\n",
    "        self, x: torch.tensor\n",
    "    ) -> (\n",
    "        torch.tensor\n",
    "    ):  # It just tells humans and tools what the function should return.Removing it does not break anything\n",
    "        return self.weights * x + self.bias"
   ]
  },
  {
   "cell_type": "markdown",
   "id": "3f6af9db",
   "metadata": {},
   "source": [
    "# Checking Content of our Pytorch Model"
   ]
  },
  {
   "cell_type": "code",
   "execution_count": 8,
   "id": "2a2e03f6",
   "metadata": {},
   "outputs": [
    {
     "data": {
      "text/plain": [
       "[Parameter containing:\n",
       " tensor([0.3367], requires_grad=True),\n",
       " Parameter containing:\n",
       " tensor([0.1288], requires_grad=True)]"
      ]
     },
     "execution_count": 8,
     "metadata": {},
     "output_type": "execute_result"
    }
   ],
   "source": [
    "torch.manual_seed(42)\n",
    "model_0 = LinearRegressionModel()\n",
    "# Checkout parameters\n",
    "list(model_0.parameters())"
   ]
  },
  {
   "cell_type": "code",
   "execution_count": 9,
   "id": "06b3b537",
   "metadata": {},
   "outputs": [
    {
     "data": {
      "text/plain": [
       "OrderedDict([('weights', tensor([0.3367])), ('bias', tensor([0.1288]))])"
      ]
     },
     "execution_count": 9,
     "metadata": {},
     "output_type": "execute_result"
    }
   ],
   "source": [
    "# List of named parameters\n",
    "model_0.state_dict()"
   ]
  },
  {
   "cell_type": "markdown",
   "id": "e45007f4",
   "metadata": {},
   "source": [
    "# Making Predictions"
   ]
  },
  {
   "cell_type": "code",
   "execution_count": 10,
   "id": "9c245421",
   "metadata": {},
   "outputs": [
    {
     "data": {
      "text/plain": [
       "tensor([[0.3982],\n",
       "        [0.4015],\n",
       "        [0.4049],\n",
       "        [0.4083],\n",
       "        [0.4116],\n",
       "        [0.4150],\n",
       "        [0.4184],\n",
       "        [0.4217],\n",
       "        [0.4251],\n",
       "        [0.4285],\n",
       "        [0.4318],\n",
       "        [0.4352],\n",
       "        [0.4386],\n",
       "        [0.4419],\n",
       "        [0.4453],\n",
       "        [0.4487],\n",
       "        [0.4520],\n",
       "        [0.4554],\n",
       "        [0.4588],\n",
       "        [0.4621]])"
      ]
     },
     "execution_count": 10,
     "metadata": {},
     "output_type": "execute_result"
    }
   ],
   "source": [
    "with torch.inference_mode():  # Maks prediction faster as it doesn't keep track of data such as gradient\n",
    "    y_pred = model_0(X_test)\n",
    "y_pred"
   ]
  },
  {
   "cell_type": "code",
   "execution_count": 11,
   "id": "0d507f7f",
   "metadata": {},
   "outputs": [
    {
     "data": {
      "image/png": "[encoded data removed]",
      "text/plain": [
       "<Figure size 1000x500 with 1 Axes>"
      ]
     },
     "metadata": {},
     "output_type": "display_data"
    }
   ],
   "source": [
    "plot_predictions(predictions=y_pred)"
   ]
  },
  {
   "cell_type": "markdown",
   "id": "ffad210d",
   "metadata": {},
   "source": [
    "# Setup Loss function & Optimizer"
   ]
  },
  {
   "cell_type": "code",
   "execution_count": 12,
   "id": "f739d9ac",
   "metadata": {},
   "outputs": [],
   "source": [
    "loss_fn = nn.L1Loss()\n",
    "optimizer = torch.optim.SGD(params=model_0.parameters(), lr=0.01)"
   ]
  },
  {
   "cell_type": "markdown",
   "id": "9d7ee5fb",
   "metadata": {},
   "source": [
    "### PyTorch training loop\n",
    "For the training loop, we'll build the following steps:\n",
    "\n",
    "| Number | Step name | What does it do? | Code example |\n",
    "| ----- | ----- | ----- | ----- |\n",
    "| 1 | Forward pass | The model goes through all of the training data once, performing its `forward()` function calculations. | `model(x_train)` |\n",
    "| 2 | Calculate the loss | The model's outputs (predictions) are compared to the ground truth and evaluated to see how wrong they are. | `loss = loss_fn(y_pred, y_train)` | \n",
    "| 3 | Zero gradients | The optimizers gradients are set to zero (they are accumulated by default) so they can be recalculated for the specific training step. | `optimizer.zero_grad()` |\n",
    "| 4 | Perform backpropagation on the loss | Computes the gradient of the loss with respect for every model parameter to be updated  (each parameter with `requires_grad=True`). This is known as **backpropagation**, hence \"backwards\".  | `loss.backward()` |\n",
    "| 5 | Update the optimizer (**gradient descent**) | Update the parameters with `requires_grad=True` with respect to the loss gradients in order to improve them. | `optimizer.step()` |\n"
   ]
  },
  {
   "cell_type": "code",
   "execution_count": null,
   "id": "067a70dc",
   "metadata": {},
   "outputs": [],
   "source": [
    "torch.manual_seed(42)\n",
    "\n",
    "epochs = 100  # Set the number of training epochs to 1\n",
    "\n",
    "for epochs in range(\n",
    "    epochs\n",
    "):  # Loop over the training process for the given number of epochs\n",
    "\n",
    "    model_0.train()  # Set the model to training mode (activates things like dropout, if used)\n",
    "\n",
    "    y_pred = model_0(\n",
    "        X_train\n",
    "    )  # Perform a forward pass through the model using the training data to get predictions\n",
    "\n",
    "    loss = loss_fn(\n",
    "        y_pred, y_train\n",
    "    )  # Calculate the loss between predicted and actual training labels\n",
    "    # print(f\"Loss: {loss}\")\n",
    "    optimizer.zero_grad()  # Reset the gradients from the previous step to avoid accumulation\n",
    "\n",
    "    loss.backward()  # Perform backpropagation to compute gradients of the loss w.r.t model parameters\n",
    "\n",
    "    optimizer.step()  # Update model parameters using the computed gradients and optimizer\n",
    "\n",
    "    model_0.eval()  # Set the model to evaluation mode (deactivates things like dropout, if used)\n",
    "\n",
    "    # print(model_0.state_dict()) # print out model state dict\n",
    "    # print(f\"Weight: {weight} \\nBias: {bias}\")"
   ]
  },
  {
   "cell_type": "code",
   "execution_count": 14,
   "id": "2a4a1dcf",
   "metadata": {},
   "outputs": [],
   "source": [
    "with torch.inference_mode():\n",
    "    y_pred_new = model_0(X_test)"
   ]
  },
  {
   "cell_type": "code",
   "execution_count": 15,
   "id": "6472b695",
   "metadata": {},
   "outputs": [
    {
     "data": {
      "image/png": "[encoded data removed]",
      "text/plain": [
       "<Figure size 1000x500 with 1 Axes>"
      ]
     },
     "metadata": {},
     "output_type": "display_data"
    }
   ],
   "source": [
    "plot_predictions(predictions=y_pred_new)"
   ]
  }
 ],
 "metadata": {
  "kernelspec": {
   "display_name": ".torch",
   "language": "python",
   "name": "python3"
  },
  "language_info": {
   "codemirror_mode": {
    "name": "ipython",
    "version": 3
   },
   "file_extension": ".py",
   "mimetype": "text/x-python",
   "name": "python",
   "nbconvert_exporter": "python",
   "pygments_lexer": "ipython3",
   "version": "3.11.11"
  }
 },
 "nbformat": 4,
 "nbformat_minor": 5
}
